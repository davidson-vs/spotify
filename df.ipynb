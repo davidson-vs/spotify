{
 "cells": [
  {
   "cell_type": "code",
   "execution_count": 4,
   "metadata": {},
   "outputs": [
    {
     "name": "stdout",
     "output_type": "stream",
     "text": [
      "dict_keys(['Bizarrap+Quevedo: Bzrp Music Sessions, Vol. 52', 'Harry Styles+As It Was', 'Bad Bunny+Me Porto Bonito', 'Bad Bunny+Tití Me Preguntó', 'BLACKPINK+Pink Venom', 'ROSALÍA+DESPECHÁ', 'Bad Bunny+Efecto', 'Manuel Turizo+La Bachata', 'Kate Bush+Running Up That Hill (A Deal With God)', 'Bad Bunny+Ojitos Lindos', 'Joji+Glimpse of Us', \"OneRepublic+I Ain't Worried\", 'Steve Lacy+Bad Habit', 'Bad Bunny+Moscow Mule', 'Chris Brown+Under The Influence', 'Glass Animals+Heat Waves', 'KAROL G+PROVENZA', 'Charlie Puth+Left and Right (Feat. Jung Kook of BTS)', 'Nicki Minaj+Super Freaky Girl', 'Rosa Linn+SNAP', 'The Kid LAROI+STAY (with Justin Bieber)', 'Tom Odell+Another Love', 'Central Cee+Doja', 'Bad Bunny+Neverita', 'Harry Styles+Late Night Talking', 'Elton John+Cold Heart - PNAU Remix', 'Stephen Sanchez+Until I Found You', 'Bad Bunny+Tarot', 'Lizzo+About Damn Time', 'Nicky Youre+Sunroof', 'Post Malone+I Like You (A Happier Song) (with Doja Cat)', 'Elton John+Hold Me Closer', 'The Weeknd+Die For You', 'Shakira+Te Felicito', 'Bad Bunny+Party', 'KAROL G+GATÚBELA', 'The Neighbourhood+Sweater Weather', 'Luar La L+Caile', 'James Hype+Ferrari', \"David Guetta+I'm Good (Blue)\", 'IVE+After LIKE', 'Rels B+cómo dormiste?', 'Camila Cabello+Bam Bam (feat. Ed Sheeran)', 'benny blanco+Bad Decisions (with BTS & Snoop Dogg)', 'Drake+Jimmy Cooks (feat. 21 Savage)', 'The Weeknd+Blinding Lights', 'Imagine Dragons+Bones', 'Ghost+Mary On A Cross', 'Bad Bunny+La Corriente', 'Justin Bieber+Ghost'])\n"
     ]
    }
   ],
   "source": [
    "import spotipy\n",
    "from spotipy.oauth2 import SpotifyClientCredentials\n",
    "import pandas as pd\n",
    "\n",
    "sp = spotipy.Spotify(auth_manager=SpotifyClientCredentials(client_id=\"7469b025690441a6900dbdf0fd955211\",\n",
    "                                                           client_secret=\"94d9a566dcb1458babdfc4992902db7c\"))\n",
    "\n",
    "headers = {\n",
    "    'Authorization': 'Bearer {token}'.format(token='BQDaNe7mUS1ejXNVtlq1vgliz6Nhjgeoyo3AJsMkWdd3qFjYGtJJ9BMztFvaR8AfFbaxiTmLEvgVxBES_Bt9PAMUhzsAeMvQrRI0lKtDSFXgwVOoGcHt_KXsUQNuAqvaZ5jMeqCZmQZPHSmsZQ0-VmTMKEpVZ3k-B6qbQz-jGZC2CbjF4_zqAiZMjasPkBTMVzI')\n",
    "}\n",
    "\n",
    "import requests\n",
    "# base URL of all Spotify API endpoints\n",
    "BASE_URL = 'https://api.spotify.com/v1/'\n",
    "\n",
    "# Track ID from the URI\n",
    "track_id = '7ouMYWpwJ422jRcDASZB7P'\n",
    "\n",
    "# actual GET request with proper header\n",
    "r = requests.get(BASE_URL + 'audio-features/' + track_id, headers=headers)\n",
    "\n",
    "artist_name = []\n",
    "track_name = []\n",
    "track_id = []\n",
    "track_number = []\n",
    "\n",
    "lista_response = []\n",
    "dct_response = {}\n",
    "\n",
    "results = sp.playlist_tracks(playlist_id='37i9dQZEVXbMDoHDwVN2tF')\n",
    "\n",
    "for i, item in enumerate(results['items']):\n",
    "    track = item['track']\n",
    "    artist_name.append(track['artists'][0]['name'])\n",
    "    track_name.append(track['name'])\n",
    "    track_id.append(track['id'])\n",
    "    r = requests.get(BASE_URL + 'audio-features/' + track['id'], headers=headers)\n",
    "    lista = r.json()\n",
    "    dct_response.update({track['artists'][0]['name']+\"+\"+track['name']: lista})\n",
    "\n",
    "\n",
    "\n",
    "print(dct_response.keys())\n"
   ]
  },
  {
   "cell_type": "code",
   "execution_count": 6,
   "metadata": {},
   "outputs": [
    {
     "data": {
      "text/plain": [
       "dict_keys(['Bizarrap+Quevedo: Bzrp Music Sessions, Vol. 52', 'Harry Styles+As It Was', 'Bad Bunny+Me Porto Bonito', 'Bad Bunny+Tití Me Preguntó', 'BLACKPINK+Pink Venom', 'ROSALÍA+DESPECHÁ', 'Bad Bunny+Efecto', 'Manuel Turizo+La Bachata', 'Kate Bush+Running Up That Hill (A Deal With God)', 'Bad Bunny+Ojitos Lindos', 'Joji+Glimpse of Us', \"OneRepublic+I Ain't Worried\", 'Steve Lacy+Bad Habit', 'Bad Bunny+Moscow Mule', 'Chris Brown+Under The Influence', 'Glass Animals+Heat Waves', 'KAROL G+PROVENZA', 'Charlie Puth+Left and Right (Feat. Jung Kook of BTS)', 'Nicki Minaj+Super Freaky Girl', 'Rosa Linn+SNAP', 'The Kid LAROI+STAY (with Justin Bieber)', 'Tom Odell+Another Love', 'Central Cee+Doja', 'Bad Bunny+Neverita', 'Harry Styles+Late Night Talking', 'Elton John+Cold Heart - PNAU Remix', 'Stephen Sanchez+Until I Found You', 'Bad Bunny+Tarot', 'Lizzo+About Damn Time', 'Nicky Youre+Sunroof', 'Post Malone+I Like You (A Happier Song) (with Doja Cat)', 'Elton John+Hold Me Closer', 'The Weeknd+Die For You', 'Shakira+Te Felicito', 'Bad Bunny+Party', 'KAROL G+GATÚBELA', 'The Neighbourhood+Sweater Weather', 'Luar La L+Caile', 'James Hype+Ferrari', \"David Guetta+I'm Good (Blue)\", 'IVE+After LIKE', 'Rels B+cómo dormiste?', 'Camila Cabello+Bam Bam (feat. Ed Sheeran)', 'benny blanco+Bad Decisions (with BTS & Snoop Dogg)', 'Drake+Jimmy Cooks (feat. 21 Savage)', 'The Weeknd+Blinding Lights', 'Imagine Dragons+Bones', 'Ghost+Mary On A Cross', 'Bad Bunny+La Corriente', 'Justin Bieber+Ghost'])"
      ]
     },
     "execution_count": 6,
     "metadata": {},
     "output_type": "execute_result"
    }
   ],
   "source": [
    "dct_response.keys()\n",
    "\n"
   ]
  },
  {
   "cell_type": "code",
   "execution_count": null,
   "metadata": {},
   "outputs": [],
   "source": [
    "for key in dct_response.keys():\n",
    "    nome_artista = key.split(\"+\")[0]\n",
    "    nome_musica = key.split(\"+\")[1]\n",
    "\n",
    "df = pd.DataFrame({\n",
    "    'Nome Artista': nome_artista,\n",
    "    'Nome da musica': nome_musica\n",
    "\n",
    "})"
   ]
  },
  {
   "cell_type": "code",
   "execution_count": 7,
   "metadata": {},
   "outputs": [
    {
     "data": {
      "text/plain": [
       "dict_keys(['danceability', 'energy', 'key', 'loudness', 'mode', 'speechiness', 'acousticness', 'instrumentalness', 'liveness', 'valence', 'tempo', 'type', 'id', 'uri', 'track_href', 'analysis_url', 'duration_ms', 'time_signature'])"
      ]
     },
     "execution_count": 7,
     "metadata": {},
     "output_type": "execute_result"
    }
   ],
   "source": [
    "dct_response['BLACKPINK+Pink Venom'].keys()"
   ]
  },
  {
   "cell_type": "code",
   "execution_count": 44,
   "metadata": {},
   "outputs": [
    {
     "data": {
      "text/html": [
       "<div>\n",
       "<style scoped>\n",
       "    .dataframe tbody tr th:only-of-type {\n",
       "        vertical-align: middle;\n",
       "    }\n",
       "\n",
       "    .dataframe tbody tr th {\n",
       "        vertical-align: top;\n",
       "    }\n",
       "\n",
       "    .dataframe thead th {\n",
       "        text-align: right;\n",
       "    }\n",
       "</style>\n",
       "<table border=\"1\" class=\"dataframe\">\n",
       "  <thead>\n",
       "    <tr style=\"text-align: right;\">\n",
       "      <th></th>\n",
       "      <th>artista</th>\n",
       "      <th>musica</th>\n",
       "      <th>dancabilidade</th>\n",
       "      <th>energia</th>\n",
       "      <th>chave</th>\n",
       "      <th>volume</th>\n",
       "      <th>presenca_palavras</th>\n",
       "      <th>acustica</th>\n",
       "      <th>instrumentalidade</th>\n",
       "      <th>ao_vivo</th>\n",
       "      <th>positividade</th>\n",
       "      <th>tempo</th>\n",
       "      <th>duracao_ms</th>\n",
       "    </tr>\n",
       "  </thead>\n",
       "  <tbody>\n",
       "    <tr>\n",
       "      <th>0</th>\n",
       "      <td>Bizarrap</td>\n",
       "      <td>Quevedo: Bzrp Music Sessions, Vol. 52</td>\n",
       "      <td>0.621</td>\n",
       "      <td>0.782</td>\n",
       "      <td>2</td>\n",
       "      <td>-5.548</td>\n",
       "      <td>0.044</td>\n",
       "      <td>0.0125</td>\n",
       "      <td>0.033</td>\n",
       "      <td>0.23</td>\n",
       "      <td>0.55</td>\n",
       "      <td>128.033</td>\n",
       "      <td>198938</td>\n",
       "    </tr>\n",
       "    <tr>\n",
       "      <th>1</th>\n",
       "      <td>Harry Styles</td>\n",
       "      <td>As It Was</td>\n",
       "      <td>0.52</td>\n",
       "      <td>0.731</td>\n",
       "      <td>6</td>\n",
       "      <td>-5.338</td>\n",
       "      <td>0.0557</td>\n",
       "      <td>0.342</td>\n",
       "      <td>0.00101</td>\n",
       "      <td>0.311</td>\n",
       "      <td>0.662</td>\n",
       "      <td>173.93</td>\n",
       "      <td>167303</td>\n",
       "    </tr>\n",
       "    <tr>\n",
       "      <th>2</th>\n",
       "      <td>Bad Bunny</td>\n",
       "      <td>Me Porto Bonito</td>\n",
       "      <td>0.911</td>\n",
       "      <td>0.712</td>\n",
       "      <td>1</td>\n",
       "      <td>-5.105</td>\n",
       "      <td>0.0817</td>\n",
       "      <td>0.0901</td>\n",
       "      <td>0.000027</td>\n",
       "      <td>0.0933</td>\n",
       "      <td>0.425</td>\n",
       "      <td>92.005</td>\n",
       "      <td>178567</td>\n",
       "    </tr>\n",
       "    <tr>\n",
       "      <th>3</th>\n",
       "      <td>Bad Bunny</td>\n",
       "      <td>Tití Me Preguntó</td>\n",
       "      <td>0.65</td>\n",
       "      <td>0.715</td>\n",
       "      <td>5</td>\n",
       "      <td>-5.198</td>\n",
       "      <td>0.253</td>\n",
       "      <td>0.0993</td>\n",
       "      <td>0.000291</td>\n",
       "      <td>0.126</td>\n",
       "      <td>0.187</td>\n",
       "      <td>106.672</td>\n",
       "      <td>243717</td>\n",
       "    </tr>\n",
       "    <tr>\n",
       "      <th>4</th>\n",
       "      <td>BLACKPINK</td>\n",
       "      <td>Pink Venom</td>\n",
       "      <td>0.798</td>\n",
       "      <td>0.697</td>\n",
       "      <td>0</td>\n",
       "      <td>-7.139</td>\n",
       "      <td>0.0891</td>\n",
       "      <td>0.0202</td>\n",
       "      <td>0</td>\n",
       "      <td>0.259</td>\n",
       "      <td>0.745</td>\n",
       "      <td>90.031</td>\n",
       "      <td>186964</td>\n",
       "    </tr>\n",
       "  </tbody>\n",
       "</table>\n",
       "</div>"
      ],
      "text/plain": [
       "        artista                                 musica dancabilidade energia  \\\n",
       "0      Bizarrap  Quevedo: Bzrp Music Sessions, Vol. 52         0.621   0.782   \n",
       "1  Harry Styles                              As It Was          0.52   0.731   \n",
       "2     Bad Bunny                        Me Porto Bonito         0.911   0.712   \n",
       "3     Bad Bunny                       Tití Me Preguntó          0.65   0.715   \n",
       "4     BLACKPINK                             Pink Venom         0.798   0.697   \n",
       "\n",
       "  chave volume presenca_palavras acustica instrumentalidade ao_vivo  \\\n",
       "0     2 -5.548             0.044   0.0125             0.033    0.23   \n",
       "1     6 -5.338            0.0557    0.342           0.00101   0.311   \n",
       "2     1 -5.105            0.0817   0.0901          0.000027  0.0933   \n",
       "3     5 -5.198             0.253   0.0993          0.000291   0.126   \n",
       "4     0 -7.139            0.0891   0.0202                 0   0.259   \n",
       "\n",
       "  positividade    tempo duracao_ms  \n",
       "0         0.55  128.033     198938  \n",
       "1        0.662   173.93     167303  \n",
       "2        0.425   92.005     178567  \n",
       "3        0.187  106.672     243717  \n",
       "4        0.745   90.031     186964  "
      ]
     },
     "execution_count": 44,
     "metadata": {},
     "output_type": "execute_result"
    }
   ],
   "source": [
    "import os\n",
    "df = pd.DataFrame(dct_response).T.reset_index()\n",
    "df[['artista', 'musica']] = df['index'].str.split('+', expand=True)\n",
    "df = df.drop(\"index\", axis='columns')\n",
    "df.columns\n",
    "df = df[['artista', 'musica', 'danceability', 'energy', 'key', 'loudness', 'mode',\n",
    "       'speechiness', 'acousticness', 'instrumentalness', 'liveness',\n",
    "       'valence', 'tempo', 'type', 'id', 'uri', 'track_href', 'analysis_url',\n",
    "       'duration_ms', 'time_signature']]\n",
    "\n",
    "df = df.drop([\"type\", \"uri\", \"track_href\", \"analysis_url\", \"time_signature\", \"id\", \"mode\"], axis='columns')\n",
    "\n",
    "df = df.rename(columns={\n",
    "       'artista': 'artista',\n",
    "       'musica': 'musica',\n",
    "       'danceability': 'dancabilidade',\n",
    "       'energy': 'energia', \n",
    "       'key':'chave',\n",
    "       'loudness': 'volume',\n",
    "       'speechiness': 'presenca_palavras',\n",
    "       'acousticness': 'acustica', \n",
    "       'instrumentalness': 'instrumentalidade',\n",
    "       'liveness' :'ao_vivo',\n",
    "       'valence': 'positividade',\n",
    "       'tempo': 'tempo',\n",
    "       'duration_ms': 'duracao_ms'\n",
    "})\n",
    "\n",
    "df.to_excel(r'{}\\base_musical.xlsx'.format(os.getcwd()), )\n",
    "\n",
    "df.head(10)"
   ]
  },
  {
   "cell_type": "code",
   "execution_count": 10,
   "metadata": {},
   "outputs": [
    {
     "name": "stdout",
     "output_type": "stream",
     "text": [
      "Bizarrap+Quevedo: Bzrp Music Sessions, Vol. 52:  -> {'danceability': 0.621, 'energy': 0.782, 'key': 2, 'loudness': -5.548, 'mode': 1, 'speechiness': 0.044, 'acousticness': 0.0125, 'instrumentalness': 0.033, 'liveness': 0.23, 'valence': 0.55, 'tempo': 128.033, 'type': 'audio_features', 'id': '2tTmW7RDtMQtBk7m2rYeSw', 'uri': 'spotify:track:2tTmW7RDtMQtBk7m2rYeSw', 'track_href': 'https://api.spotify.com/v1/tracks/2tTmW7RDtMQtBk7m2rYeSw', 'analysis_url': 'https://api.spotify.com/v1/audio-analysis/2tTmW7RDtMQtBk7m2rYeSw', 'duration_ms': 198938, 'time_signature': 4}\n",
      "Harry Styles+As It Was:  -> {'danceability': 0.52, 'energy': 0.731, 'key': 6, 'loudness': -5.338, 'mode': 0, 'speechiness': 0.0557, 'acousticness': 0.342, 'instrumentalness': 0.00101, 'liveness': 0.311, 'valence': 0.662, 'tempo': 173.93, 'type': 'audio_features', 'id': '4Dvkj6JhhA12EX05fT7y2e', 'uri': 'spotify:track:4Dvkj6JhhA12EX05fT7y2e', 'track_href': 'https://api.spotify.com/v1/tracks/4Dvkj6JhhA12EX05fT7y2e', 'analysis_url': 'https://api.spotify.com/v1/audio-analysis/4Dvkj6JhhA12EX05fT7y2e', 'duration_ms': 167303, 'time_signature': 4}\n",
      "Bad Bunny+Me Porto Bonito:  -> {'danceability': 0.911, 'energy': 0.712, 'key': 1, 'loudness': -5.105, 'mode': 0, 'speechiness': 0.0817, 'acousticness': 0.0901, 'instrumentalness': 2.68e-05, 'liveness': 0.0933, 'valence': 0.425, 'tempo': 92.005, 'type': 'audio_features', 'id': '6Sq7ltF9Qa7SNFBsV5Cogx', 'uri': 'spotify:track:6Sq7ltF9Qa7SNFBsV5Cogx', 'track_href': 'https://api.spotify.com/v1/tracks/6Sq7ltF9Qa7SNFBsV5Cogx', 'analysis_url': 'https://api.spotify.com/v1/audio-analysis/6Sq7ltF9Qa7SNFBsV5Cogx', 'duration_ms': 178567, 'time_signature': 4}\n",
      "Bad Bunny+Tití Me Preguntó:  -> {'danceability': 0.65, 'energy': 0.715, 'key': 5, 'loudness': -5.198, 'mode': 0, 'speechiness': 0.253, 'acousticness': 0.0993, 'instrumentalness': 0.000291, 'liveness': 0.126, 'valence': 0.187, 'tempo': 106.672, 'type': 'audio_features', 'id': '1IHWl5LamUGEuP4ozKQSXZ', 'uri': 'spotify:track:1IHWl5LamUGEuP4ozKQSXZ', 'track_href': 'https://api.spotify.com/v1/tracks/1IHWl5LamUGEuP4ozKQSXZ', 'analysis_url': 'https://api.spotify.com/v1/audio-analysis/1IHWl5LamUGEuP4ozKQSXZ', 'duration_ms': 243717, 'time_signature': 4}\n",
      "BLACKPINK+Pink Venom:  -> {'danceability': 0.798, 'energy': 0.697, 'key': 0, 'loudness': -7.139, 'mode': 1, 'speechiness': 0.0891, 'acousticness': 0.0202, 'instrumentalness': 0, 'liveness': 0.259, 'valence': 0.745, 'tempo': 90.031, 'type': 'audio_features', 'id': '0skYUMpS0AcbpjcGsAbRGj', 'uri': 'spotify:track:0skYUMpS0AcbpjcGsAbRGj', 'track_href': 'https://api.spotify.com/v1/tracks/0skYUMpS0AcbpjcGsAbRGj', 'analysis_url': 'https://api.spotify.com/v1/audio-analysis/0skYUMpS0AcbpjcGsAbRGj', 'duration_ms': 186964, 'time_signature': 4}\n",
      "ROSALÍA+DESPECHÁ:  -> {'danceability': 0.919, 'energy': 0.623, 'key': 7, 'loudness': -6.521, 'mode': 1, 'speechiness': 0.0992, 'acousticness': 0.184, 'instrumentalness': 1.63e-05, 'liveness': 0.0609, 'valence': 0.775, 'tempo': 130.037, 'type': 'audio_features', 'id': '5ildQOEKmJuWGl2vRkFdYc', 'uri': 'spotify:track:5ildQOEKmJuWGl2vRkFdYc', 'track_href': 'https://api.spotify.com/v1/tracks/5ildQOEKmJuWGl2vRkFdYc', 'analysis_url': 'https://api.spotify.com/v1/audio-analysis/5ildQOEKmJuWGl2vRkFdYc', 'duration_ms': 157018, 'time_signature': 4}\n",
      "Bad Bunny+Efecto:  -> {'danceability': 0.801, 'energy': 0.475, 'key': 7, 'loudness': -8.797, 'mode': 0, 'speechiness': 0.0516, 'acousticness': 0.141, 'instrumentalness': 1.73e-05, 'liveness': 0.0639, 'valence': 0.234, 'tempo': 98.047, 'type': 'audio_features', 'id': '5Eax0qFko2dh7Rl2lYs3bx', 'uri': 'spotify:track:5Eax0qFko2dh7Rl2lYs3bx', 'track_href': 'https://api.spotify.com/v1/tracks/5Eax0qFko2dh7Rl2lYs3bx', 'analysis_url': 'https://api.spotify.com/v1/audio-analysis/5Eax0qFko2dh7Rl2lYs3bx', 'duration_ms': 213061, 'time_signature': 4}\n",
      "Manuel Turizo+La Bachata:  -> {'danceability': 0.835, 'energy': 0.679, 'key': 7, 'loudness': -5.329, 'mode': 0, 'speechiness': 0.0364, 'acousticness': 0.583, 'instrumentalness': 1.98e-06, 'liveness': 0.218, 'valence': 0.85, 'tempo': 124.98, 'type': 'audio_features', 'id': '5ww2BF9slyYgNOk37BlC4u', 'uri': 'spotify:track:5ww2BF9slyYgNOk37BlC4u', 'track_href': 'https://api.spotify.com/v1/tracks/5ww2BF9slyYgNOk37BlC4u', 'analysis_url': 'https://api.spotify.com/v1/audio-analysis/5ww2BF9slyYgNOk37BlC4u', 'duration_ms': 162638, 'time_signature': 4}\n",
      "Kate Bush+Running Up That Hill (A Deal With God):  -> {'danceability': 0.629, 'energy': 0.547, 'key': 10, 'loudness': -13.123, 'mode': 0, 'speechiness': 0.055, 'acousticness': 0.72, 'instrumentalness': 0.00314, 'liveness': 0.0604, 'valence': 0.197, 'tempo': 108.375, 'type': 'audio_features', 'id': '75FEaRjZTKLhTrFGsfMUXR', 'uri': 'spotify:track:75FEaRjZTKLhTrFGsfMUXR', 'track_href': 'https://api.spotify.com/v1/tracks/75FEaRjZTKLhTrFGsfMUXR', 'analysis_url': 'https://api.spotify.com/v1/audio-analysis/75FEaRjZTKLhTrFGsfMUXR', 'duration_ms': 298933, 'time_signature': 4}\n",
      "Bad Bunny+Ojitos Lindos:  -> {'danceability': 0.647, 'energy': 0.686, 'key': 3, 'loudness': -5.745, 'mode': 0, 'speechiness': 0.0413, 'acousticness': 0.08, 'instrumentalness': 1.34e-06, 'liveness': 0.528, 'valence': 0.268, 'tempo': 79.928, 'type': 'audio_features', 'id': '3k3NWokhRRkEPhCzPmV8TW', 'uri': 'spotify:track:3k3NWokhRRkEPhCzPmV8TW', 'track_href': 'https://api.spotify.com/v1/tracks/3k3NWokhRRkEPhCzPmV8TW', 'analysis_url': 'https://api.spotify.com/v1/audio-analysis/3k3NWokhRRkEPhCzPmV8TW', 'duration_ms': 258299, 'time_signature': 4}\n",
      "Joji+Glimpse of Us:  -> {'danceability': 0.44, 'energy': 0.317, 'key': 8, 'loudness': -9.258, 'mode': 1, 'speechiness': 0.0531, 'acousticness': 0.891, 'instrumentalness': 4.78e-06, 'liveness': 0.141, 'valence': 0.268, 'tempo': 169.914, 'type': 'audio_features', 'id': '6xGruZOHLs39ZbVccQTuPZ', 'uri': 'spotify:track:6xGruZOHLs39ZbVccQTuPZ', 'track_href': 'https://api.spotify.com/v1/tracks/6xGruZOHLs39ZbVccQTuPZ', 'analysis_url': 'https://api.spotify.com/v1/audio-analysis/6xGruZOHLs39ZbVccQTuPZ', 'duration_ms': 233456, 'time_signature': 3}\n",
      "OneRepublic+I Ain't Worried:  -> {'danceability': 0.704, 'energy': 0.797, 'key': 0, 'loudness': -5.927, 'mode': 1, 'speechiness': 0.0475, 'acousticness': 0.0826, 'instrumentalness': 0.000745, 'liveness': 0.0546, 'valence': 0.825, 'tempo': 139.994, 'type': 'audio_features', 'id': '4h9wh7iOZ0GGn8QVp4RAOB', 'uri': 'spotify:track:4h9wh7iOZ0GGn8QVp4RAOB', 'track_href': 'https://api.spotify.com/v1/tracks/4h9wh7iOZ0GGn8QVp4RAOB', 'analysis_url': 'https://api.spotify.com/v1/audio-analysis/4h9wh7iOZ0GGn8QVp4RAOB', 'duration_ms': 148486, 'time_signature': 4}\n",
      "Steve Lacy+Bad Habit:  -> {'danceability': 0.686, 'energy': 0.494, 'key': 1, 'loudness': -7.093, 'mode': 1, 'speechiness': 0.0355, 'acousticness': 0.613, 'instrumentalness': 5.8e-05, 'liveness': 0.402, 'valence': 0.7, 'tempo': 168.946, 'type': 'audio_features', 'id': '4k6Uh1HXdhtusDW5y8Gbvy', 'uri': 'spotify:track:4k6Uh1HXdhtusDW5y8Gbvy', 'track_href': 'https://api.spotify.com/v1/tracks/4k6Uh1HXdhtusDW5y8Gbvy', 'analysis_url': 'https://api.spotify.com/v1/audio-analysis/4k6Uh1HXdhtusDW5y8Gbvy', 'duration_ms': 232067, 'time_signature': 4}\n",
      "Bad Bunny+Moscow Mule:  -> {'danceability': 0.804, 'energy': 0.674, 'key': 5, 'loudness': -5.453, 'mode': 0, 'speechiness': 0.0333, 'acousticness': 0.294, 'instrumentalness': 1.18e-06, 'liveness': 0.115, 'valence': 0.292, 'tempo': 99.968, 'type': 'audio_features', 'id': '6Xom58OOXk2SoU711L2IXO', 'uri': 'spotify:track:6Xom58OOXk2SoU711L2IXO', 'track_href': 'https://api.spotify.com/v1/tracks/6Xom58OOXk2SoU711L2IXO', 'analysis_url': 'https://api.spotify.com/v1/audio-analysis/6Xom58OOXk2SoU711L2IXO', 'duration_ms': 245940, 'time_signature': 4}\n",
      "Chris Brown+Under The Influence:  -> {'danceability': 0.733, 'energy': 0.69, 'key': 9, 'loudness': -5.529, 'mode': 0, 'speechiness': 0.0427, 'acousticness': 0.0635, 'instrumentalness': 1.18e-06, 'liveness': 0.105, 'valence': 0.31, 'tempo': 116.992, 'type': 'audio_features', 'id': '5IgjP7X4th6nMNDh4akUHb', 'uri': 'spotify:track:5IgjP7X4th6nMNDh4akUHb', 'track_href': 'https://api.spotify.com/v1/tracks/5IgjP7X4th6nMNDh4akUHb', 'analysis_url': 'https://api.spotify.com/v1/audio-analysis/5IgjP7X4th6nMNDh4akUHb', 'duration_ms': 184613, 'time_signature': 4}\n",
      "Glass Animals+Heat Waves:  -> {'danceability': 0.761, 'energy': 0.525, 'key': 11, 'loudness': -6.9, 'mode': 1, 'speechiness': 0.0944, 'acousticness': 0.44, 'instrumentalness': 6.7e-06, 'liveness': 0.0921, 'valence': 0.531, 'tempo': 80.87, 'type': 'audio_features', 'id': '02MWAaffLxlfxAUY7c5dvx', 'uri': 'spotify:track:02MWAaffLxlfxAUY7c5dvx', 'track_href': 'https://api.spotify.com/v1/tracks/02MWAaffLxlfxAUY7c5dvx', 'analysis_url': 'https://api.spotify.com/v1/audio-analysis/02MWAaffLxlfxAUY7c5dvx', 'duration_ms': 238805, 'time_signature': 4}\n",
      "KAROL G+PROVENZA:  -> {'danceability': 0.87, 'energy': 0.516, 'key': 1, 'loudness': -8.006, 'mode': 1, 'speechiness': 0.0541, 'acousticness': 0.656, 'instrumentalness': 0.00823, 'liveness': 0.11, 'valence': 0.53, 'tempo': 111.005, 'type': 'audio_features', 'id': '7dSZ6zGTQx66c2GF91xCrb', 'uri': 'spotify:track:7dSZ6zGTQx66c2GF91xCrb', 'track_href': 'https://api.spotify.com/v1/tracks/7dSZ6zGTQx66c2GF91xCrb', 'analysis_url': 'https://api.spotify.com/v1/audio-analysis/7dSZ6zGTQx66c2GF91xCrb', 'duration_ms': 210200, 'time_signature': 4}\n",
      "Charlie Puth+Left and Right (Feat. Jung Kook of BTS):  -> {'danceability': 0.881, 'energy': 0.592, 'key': 2, 'loudness': -4.898, 'mode': 1, 'speechiness': 0.0324, 'acousticness': 0.619, 'instrumentalness': 1.32e-05, 'liveness': 0.0901, 'valence': 0.719, 'tempo': 101.058, 'type': 'audio_features', 'id': '0mBP9X2gPCuapvpZ7TGDk3', 'uri': 'spotify:track:0mBP9X2gPCuapvpZ7TGDk3', 'track_href': 'https://api.spotify.com/v1/tracks/0mBP9X2gPCuapvpZ7TGDk3', 'analysis_url': 'https://api.spotify.com/v1/audio-analysis/0mBP9X2gPCuapvpZ7TGDk3', 'duration_ms': 154487, 'time_signature': 4}\n",
      "Nicki Minaj+Super Freaky Girl:  -> {'danceability': 0.951, 'energy': 0.878, 'key': 2, 'loudness': -2.565, 'mode': 1, 'speechiness': 0.211, 'acousticness': 0.0509, 'instrumentalness': 1.61e-05, 'liveness': 0.321, 'valence': 0.923, 'tempo': 133.014, 'type': 'audio_features', 'id': '2yjlYDiNiQkdxVqTlaSrlX', 'uri': 'spotify:track:2yjlYDiNiQkdxVqTlaSrlX', 'track_href': 'https://api.spotify.com/v1/tracks/2yjlYDiNiQkdxVqTlaSrlX', 'analysis_url': 'https://api.spotify.com/v1/audio-analysis/2yjlYDiNiQkdxVqTlaSrlX', 'duration_ms': 170977, 'time_signature': 4}\n",
      "Rosa Linn+SNAP:  -> {'danceability': 0.565, 'energy': 0.636, 'key': 0, 'loudness': -8.198, 'mode': 1, 'speechiness': 0.0638, 'acousticness': 0.107, 'instrumentalness': 9.9e-06, 'liveness': 0.447, 'valence': 0.525, 'tempo': 170.01, 'type': 'audio_features', 'id': '6zJejIfVYLgjud3lTk4DLB', 'uri': 'spotify:track:6zJejIfVYLgjud3lTk4DLB', 'track_href': 'https://api.spotify.com/v1/tracks/6zJejIfVYLgjud3lTk4DLB', 'analysis_url': 'https://api.spotify.com/v1/audio-analysis/6zJejIfVYLgjud3lTk4DLB', 'duration_ms': 179551, 'time_signature': 4}\n",
      "The Kid LAROI+STAY (with Justin Bieber):  -> {'danceability': 0.591, 'energy': 0.764, 'key': 1, 'loudness': -5.484, 'mode': 1, 'speechiness': 0.0483, 'acousticness': 0.0383, 'instrumentalness': 0, 'liveness': 0.103, 'valence': 0.478, 'tempo': 169.928, 'type': 'audio_features', 'id': '5PjdY0CKGZdEuoNab3yDmX', 'uri': 'spotify:track:5PjdY0CKGZdEuoNab3yDmX', 'track_href': 'https://api.spotify.com/v1/tracks/5PjdY0CKGZdEuoNab3yDmX', 'analysis_url': 'https://api.spotify.com/v1/audio-analysis/5PjdY0CKGZdEuoNab3yDmX', 'duration_ms': 141806, 'time_signature': 4}\n",
      "Tom Odell+Another Love:  -> {'danceability': 0.442, 'energy': 0.538, 'key': 4, 'loudness': -8.55, 'mode': 0, 'speechiness': 0.0451, 'acousticness': 0.717, 'instrumentalness': 2.95e-05, 'liveness': 0.09, 'valence': 0.139, 'tempo': 122.758, 'type': 'audio_features', 'id': '7jtQIBanIiJOMS6RyCx6jZ', 'uri': 'spotify:track:7jtQIBanIiJOMS6RyCx6jZ', 'track_href': 'https://api.spotify.com/v1/tracks/7jtQIBanIiJOMS6RyCx6jZ', 'analysis_url': 'https://api.spotify.com/v1/audio-analysis/7jtQIBanIiJOMS6RyCx6jZ', 'duration_ms': 244360, 'time_signature': 4}\n",
      "Central Cee+Doja:  -> {'danceability': 0.911, 'energy': 0.573, 'key': 6, 'loudness': -7.43, 'mode': 1, 'speechiness': 0.288, 'acousticness': 0.38, 'instrumentalness': 0, 'liveness': 0.403, 'valence': 0.972, 'tempo': 140.04, 'type': 'audio_features', 'id': '3LtpKP5abr2qqjunvjlX5i', 'uri': 'spotify:track:3LtpKP5abr2qqjunvjlX5i', 'track_href': 'https://api.spotify.com/v1/tracks/3LtpKP5abr2qqjunvjlX5i', 'analysis_url': 'https://api.spotify.com/v1/audio-analysis/3LtpKP5abr2qqjunvjlX5i', 'duration_ms': 97393, 'time_signature': 4}\n",
      "Bad Bunny+Neverita:  -> {'danceability': 0.876, 'energy': 0.498, 'key': 10, 'loudness': -7.511, 'mode': 1, 'speechiness': 0.0478, 'acousticness': 0.0706, 'instrumentalness': 0, 'liveness': 0.143, 'valence': 0.428, 'tempo': 122.016, 'type': 'audio_features', 'id': '31i56LZnwE6uSu3exoHjtB', 'uri': 'spotify:track:31i56LZnwE6uSu3exoHjtB', 'track_href': 'https://api.spotify.com/v1/tracks/31i56LZnwE6uSu3exoHjtB', 'analysis_url': 'https://api.spotify.com/v1/audio-analysis/31i56LZnwE6uSu3exoHjtB', 'duration_ms': 173119, 'time_signature': 4}\n",
      "Harry Styles+Late Night Talking:  -> {'danceability': 0.714, 'energy': 0.728, 'key': 10, 'loudness': -4.595, 'mode': 1, 'speechiness': 0.0468, 'acousticness': 0.298, 'instrumentalness': 0, 'liveness': 0.106, 'valence': 0.901, 'tempo': 114.996, 'type': 'audio_features', 'id': '1qEmFfgcLObUfQm0j1W2CK', 'uri': 'spotify:track:1qEmFfgcLObUfQm0j1W2CK', 'track_href': 'https://api.spotify.com/v1/tracks/1qEmFfgcLObUfQm0j1W2CK', 'analysis_url': 'https://api.spotify.com/v1/audio-analysis/1qEmFfgcLObUfQm0j1W2CK', 'duration_ms': 177955, 'time_signature': 4}\n",
      "Elton John+Cold Heart - PNAU Remix:  -> {'danceability': 0.795, 'energy': 0.8, 'key': 1, 'loudness': -6.32, 'mode': 1, 'speechiness': 0.0309, 'acousticness': 0.0354, 'instrumentalness': 7.25e-05, 'liveness': 0.0915, 'valence': 0.934, 'tempo': 116.032, 'type': 'audio_features', 'id': '6JIC3hbC28JZKZ8AlAqX8h', 'uri': 'spotify:track:6JIC3hbC28JZKZ8AlAqX8h', 'track_href': 'https://api.spotify.com/v1/tracks/6JIC3hbC28JZKZ8AlAqX8h', 'analysis_url': 'https://api.spotify.com/v1/audio-analysis/6JIC3hbC28JZKZ8AlAqX8h', 'duration_ms': 202735, 'time_signature': 4}\n",
      "Stephen Sanchez+Until I Found You:  -> {'danceability': 0.346, 'energy': 0.5, 'key': 10, 'loudness': -6.097, 'mode': 1, 'speechiness': 0.0388, 'acousticness': 0.757, 'instrumentalness': 0, 'liveness': 0.189, 'valence': 0.191, 'tempo': 202.466, 'type': 'audio_features', 'id': '6VhuP99TE6gYNQRJIlAWFD', 'uri': 'spotify:track:6VhuP99TE6gYNQRJIlAWFD', 'track_href': 'https://api.spotify.com/v1/tracks/6VhuP99TE6gYNQRJIlAWFD', 'analysis_url': 'https://api.spotify.com/v1/audio-analysis/6VhuP99TE6gYNQRJIlAWFD', 'duration_ms': 176667, 'time_signature': 3}\n",
      "Bad Bunny+Tarot:  -> {'danceability': 0.795, 'energy': 0.684, 'key': 11, 'loudness': -3.971, 'mode': 0, 'speechiness': 0.0419, 'acousticness': 0.0225, 'instrumentalness': 0, 'liveness': 0.658, 'valence': 0.419, 'tempo': 114.011, 'type': 'audio_features', 'id': '41oY4WCTj5kccfesTVFnvN', 'uri': 'spotify:track:41oY4WCTj5kccfesTVFnvN', 'track_href': 'https://api.spotify.com/v1/tracks/41oY4WCTj5kccfesTVFnvN', 'analysis_url': 'https://api.spotify.com/v1/audio-analysis/41oY4WCTj5kccfesTVFnvN', 'duration_ms': 237895, 'time_signature': 4}\n",
      "Lizzo+About Damn Time:  -> {'danceability': 0.836, 'energy': 0.743, 'key': 10, 'loudness': -6.305, 'mode': 0, 'speechiness': 0.0653, 'acousticness': 0.0974, 'instrumentalness': 0, 'liveness': 0.335, 'valence': 0.723, 'tempo': 108.965, 'type': 'audio_features', 'id': '6HMtHNpW6YPi1hrw9tgF8P', 'uri': 'spotify:track:6HMtHNpW6YPi1hrw9tgF8P', 'track_href': 'https://api.spotify.com/v1/tracks/6HMtHNpW6YPi1hrw9tgF8P', 'analysis_url': 'https://api.spotify.com/v1/audio-analysis/6HMtHNpW6YPi1hrw9tgF8P', 'duration_ms': 191938, 'time_signature': 4}\n",
      "Nicky Youre+Sunroof:  -> {'danceability': 0.768, 'energy': 0.714, 'key': 10, 'loudness': -5.11, 'mode': 1, 'speechiness': 0.0401, 'acousticness': 0.352, 'instrumentalness': 0, 'liveness': 0.15, 'valence': 0.842, 'tempo': 131.443, 'type': 'audio_features', 'id': '4h4QlmocP3IuwYEj2j14p8', 'uri': 'spotify:track:4h4QlmocP3IuwYEj2j14p8', 'track_href': 'https://api.spotify.com/v1/tracks/4h4QlmocP3IuwYEj2j14p8', 'analysis_url': 'https://api.spotify.com/v1/audio-analysis/4h4QlmocP3IuwYEj2j14p8', 'duration_ms': 163026, 'time_signature': 4}\n",
      "Post Malone+I Like You (A Happier Song) (with Doja Cat):  -> {'danceability': 0.733, 'energy': 0.67, 'key': 5, 'loudness': -6.009, 'mode': 1, 'speechiness': 0.0751, 'acousticness': 0.121, 'instrumentalness': 0, 'liveness': 0.121, 'valence': 0.472, 'tempo': 100.964, 'type': 'audio_features', 'id': '0O6u0VJ46W86TxN9wgyqDj', 'uri': 'spotify:track:0O6u0VJ46W86TxN9wgyqDj', 'track_href': 'https://api.spotify.com/v1/tracks/0O6u0VJ46W86TxN9wgyqDj', 'analysis_url': 'https://api.spotify.com/v1/audio-analysis/0O6u0VJ46W86TxN9wgyqDj', 'duration_ms': 192841, 'time_signature': 4}\n",
      "Elton John+Hold Me Closer:  -> {'danceability': 0.667, 'energy': 0.75, 'key': 0, 'loudness': -4.602, 'mode': 1, 'speechiness': 0.0906, 'acousticness': 0.0746, 'instrumentalness': 0.000198, 'liveness': 0.197, 'valence': 0.486, 'tempo': 126.041, 'type': 'audio_features', 'id': '72yP0DUlWPyH8P7IoxskwN', 'uri': 'spotify:track:72yP0DUlWPyH8P7IoxskwN', 'track_href': 'https://api.spotify.com/v1/tracks/72yP0DUlWPyH8P7IoxskwN', 'analysis_url': 'https://api.spotify.com/v1/audio-analysis/72yP0DUlWPyH8P7IoxskwN', 'duration_ms': 202246, 'time_signature': 4}\n",
      "The Weeknd+Die For You:  -> {'danceability': 0.586, 'energy': 0.525, 'key': 1, 'loudness': -7.163, 'mode': 0, 'speechiness': 0.0615, 'acousticness': 0.111, 'instrumentalness': 0, 'liveness': 0.134, 'valence': 0.508, 'tempo': 133.629, 'type': 'audio_features', 'id': '2LBqCSwhJGcFQeTHMVGwy3', 'uri': 'spotify:track:2LBqCSwhJGcFQeTHMVGwy3', 'track_href': 'https://api.spotify.com/v1/tracks/2LBqCSwhJGcFQeTHMVGwy3', 'analysis_url': 'https://api.spotify.com/v1/audio-analysis/2LBqCSwhJGcFQeTHMVGwy3', 'duration_ms': 260253, 'time_signature': 4}\n",
      "Shakira+Te Felicito:  -> {'danceability': 0.695, 'energy': 0.636, 'key': 5, 'loudness': -4.654, 'mode': 1, 'speechiness': 0.317, 'acousticness': 0.234, 'instrumentalness': 0, 'liveness': 0.081, 'valence': 0.575, 'tempo': 174.14, 'type': 'audio_features', 'id': '2rurDawMfoKP4uHyb2kJBt', 'uri': 'spotify:track:2rurDawMfoKP4uHyb2kJBt', 'track_href': 'https://api.spotify.com/v1/tracks/2rurDawMfoKP4uHyb2kJBt', 'analysis_url': 'https://api.spotify.com/v1/audio-analysis/2rurDawMfoKP4uHyb2kJBt', 'duration_ms': 172235, 'time_signature': 4}\n",
      "Bad Bunny+Party:  -> {'danceability': 0.829, 'energy': 0.799, 'key': 9, 'loudness': -5.389, 'mode': 1, 'speechiness': 0.0897, 'acousticness': 0.0151, 'instrumentalness': 0.000543, 'liveness': 0.242, 'valence': 0.471, 'tempo': 97.013, 'type': 'audio_features', 'id': '4tYFy8ALRjIZvnvSLw5lxN', 'uri': 'spotify:track:4tYFy8ALRjIZvnvSLw5lxN', 'track_href': 'https://api.spotify.com/v1/tracks/4tYFy8ALRjIZvnvSLw5lxN', 'analysis_url': 'https://api.spotify.com/v1/audio-analysis/4tYFy8ALRjIZvnvSLw5lxN', 'duration_ms': 227629, 'time_signature': 4}\n",
      "KAROL G+GATÚBELA:  -> {'danceability': 0.627, 'energy': 0.858, 'key': 11, 'loudness': -2.824, 'mode': 0, 'speechiness': 0.386, 'acousticness': 0.263, 'instrumentalness': 0, 'liveness': 0.21, 'valence': 0.342, 'tempo': 92.523, 'type': 'audio_features', 'id': '1ga4PztXOIw1yBbdUt2X8v', 'uri': 'spotify:track:1ga4PztXOIw1yBbdUt2X8v', 'track_href': 'https://api.spotify.com/v1/tracks/1ga4PztXOIw1yBbdUt2X8v', 'analysis_url': 'https://api.spotify.com/v1/audio-analysis/1ga4PztXOIw1yBbdUt2X8v', 'duration_ms': 209160, 'time_signature': 4}\n",
      "The Neighbourhood+Sweater Weather:  -> {'danceability': 0.612, 'energy': 0.807, 'key': 10, 'loudness': -2.81, 'mode': 1, 'speechiness': 0.0336, 'acousticness': 0.0495, 'instrumentalness': 0.0177, 'liveness': 0.101, 'valence': 0.398, 'tempo': 124.053, 'type': 'audio_features', 'id': '2QjOHCTQ1Jl3zawyYOpxh6', 'uri': 'spotify:track:2QjOHCTQ1Jl3zawyYOpxh6', 'track_href': 'https://api.spotify.com/v1/tracks/2QjOHCTQ1Jl3zawyYOpxh6', 'analysis_url': 'https://api.spotify.com/v1/audio-analysis/2QjOHCTQ1Jl3zawyYOpxh6', 'duration_ms': 240400, 'time_signature': 4}\n",
      "Luar La L+Caile:  -> {'danceability': 0.704, 'energy': 0.756, 'key': 0, 'loudness': -4.948, 'mode': 1, 'speechiness': 0.448, 'acousticness': 0.298, 'instrumentalness': 3.75e-06, 'liveness': 0.0852, 'valence': 0.461, 'tempo': 121.737, 'type': 'audio_features', 'id': '6i1g5ZRmJZAkDwBaUZ3f2i', 'uri': 'spotify:track:6i1g5ZRmJZAkDwBaUZ3f2i', 'track_href': 'https://api.spotify.com/v1/tracks/6i1g5ZRmJZAkDwBaUZ3f2i', 'analysis_url': 'https://api.spotify.com/v1/audio-analysis/6i1g5ZRmJZAkDwBaUZ3f2i', 'duration_ms': 141340, 'time_signature': 3}\n",
      "James Hype+Ferrari:  -> {'danceability': 0.847, 'energy': 0.69, 'key': 1, 'loudness': -7.877, 'mode': 0, 'speechiness': 0.0493, 'acousticness': 0.0127, 'instrumentalness': 6e-05, 'liveness': 0.0526, 'valence': 0.692, 'tempo': 125.004, 'type': 'audio_features', 'id': '4zN21mbAuaD0WqtmaTZZeP', 'uri': 'spotify:track:4zN21mbAuaD0WqtmaTZZeP', 'track_href': 'https://api.spotify.com/v1/tracks/4zN21mbAuaD0WqtmaTZZeP', 'analysis_url': 'https://api.spotify.com/v1/audio-analysis/4zN21mbAuaD0WqtmaTZZeP', 'duration_ms': 186662, 'time_signature': 4}\n",
      "David Guetta+I'm Good (Blue):  -> {'danceability': 0.561, 'energy': 0.965, 'key': 7, 'loudness': -3.673, 'mode': 0, 'speechiness': 0.0343, 'acousticness': 0.00383, 'instrumentalness': 7.07e-06, 'liveness': 0.371, 'valence': 0.304, 'tempo': 128.04, 'type': 'audio_features', 'id': '4uUG5RXrOk84mYEfFvj3cK', 'uri': 'spotify:track:4uUG5RXrOk84mYEfFvj3cK', 'track_href': 'https://api.spotify.com/v1/tracks/4uUG5RXrOk84mYEfFvj3cK', 'analysis_url': 'https://api.spotify.com/v1/audio-analysis/4uUG5RXrOk84mYEfFvj3cK', 'duration_ms': 175238, 'time_signature': 4}\n",
      "IVE+After LIKE:  -> {'danceability': 0.68, 'energy': 0.922, 'key': 0, 'loudness': -1.215, 'mode': 1, 'speechiness': 0.121, 'acousticness': 0.103, 'instrumentalness': 0, 'liveness': 0.0877, 'valence': 0.799, 'tempo': 125.014, 'type': 'audio_features', 'id': '2gYj9lubBorOPIVWsTXugG', 'uri': 'spotify:track:2gYj9lubBorOPIVWsTXugG', 'track_href': 'https://api.spotify.com/v1/tracks/2gYj9lubBorOPIVWsTXugG', 'analysis_url': 'https://api.spotify.com/v1/audio-analysis/2gYj9lubBorOPIVWsTXugG', 'duration_ms': 176973, 'time_signature': 4}\n",
      "Rels B+cómo dormiste?:  -> {'danceability': 0.627, 'energy': 0.429, 'key': 1, 'loudness': -8.255, 'mode': 1, 'speechiness': 0.234, 'acousticness': 0.238, 'instrumentalness': 0, 'liveness': 0.122, 'valence': 0.565, 'tempo': 126.426, 'type': 'audio_features', 'id': '3fjN3y5x4hN53rykAN2LHQ', 'uri': 'spotify:track:3fjN3y5x4hN53rykAN2LHQ', 'track_href': 'https://api.spotify.com/v1/tracks/3fjN3y5x4hN53rykAN2LHQ', 'analysis_url': 'https://api.spotify.com/v1/audio-analysis/3fjN3y5x4hN53rykAN2LHQ', 'duration_ms': 112572, 'time_signature': 5}\n",
      "Camila Cabello+Bam Bam (feat. Ed Sheeran):  -> {'danceability': 0.756, 'energy': 0.697, 'key': 8, 'loudness': -6.377, 'mode': 1, 'speechiness': 0.0401, 'acousticness': 0.182, 'instrumentalness': 0, 'liveness': 0.333, 'valence': 0.956, 'tempo': 94.996, 'type': 'audio_features', 'id': '2DB4DdfCFMw1iaR6JaR03a', 'uri': 'spotify:track:2DB4DdfCFMw1iaR6JaR03a', 'track_href': 'https://api.spotify.com/v1/tracks/2DB4DdfCFMw1iaR6JaR03a', 'analysis_url': 'https://api.spotify.com/v1/audio-analysis/2DB4DdfCFMw1iaR6JaR03a', 'duration_ms': 206071, 'time_signature': 4}\n",
      "benny blanco+Bad Decisions (with BTS & Snoop Dogg):  -> {'danceability': 0.762, 'energy': 0.861, 'key': 0, 'loudness': -3.296, 'mode': 1, 'speechiness': 0.0955, 'acousticness': 0.0185, 'instrumentalness': 0, 'liveness': 0.264, 'valence': 0.955, 'tempo': 120.048, 'type': 'audio_features', 'id': '0xzI1KAr0Yd9tv8jlIk3sn', 'uri': 'spotify:track:0xzI1KAr0Yd9tv8jlIk3sn', 'track_href': 'https://api.spotify.com/v1/tracks/0xzI1KAr0Yd9tv8jlIk3sn', 'analysis_url': 'https://api.spotify.com/v1/audio-analysis/0xzI1KAr0Yd9tv8jlIk3sn', 'duration_ms': 172714, 'time_signature': 4}\n",
      "Drake+Jimmy Cooks (feat. 21 Savage):  -> {'danceability': 0.529, 'energy': 0.673, 'key': 0, 'loudness': -4.711, 'mode': 1, 'speechiness': 0.175, 'acousticness': 0.000307, 'instrumentalness': 2.41e-06, 'liveness': 0.093, 'valence': 0.366, 'tempo': 165.921, 'type': 'audio_features', 'id': '3F5CgOj3wFlRv51JsHbxhe', 'uri': 'spotify:track:3F5CgOj3wFlRv51JsHbxhe', 'track_href': 'https://api.spotify.com/v1/tracks/3F5CgOj3wFlRv51JsHbxhe', 'analysis_url': 'https://api.spotify.com/v1/audio-analysis/3F5CgOj3wFlRv51JsHbxhe', 'duration_ms': 218365, 'time_signature': 4}\n",
      "The Weeknd+Blinding Lights:  -> {'danceability': 0.514, 'energy': 0.73, 'key': 1, 'loudness': -5.934, 'mode': 1, 'speechiness': 0.0598, 'acousticness': 0.00146, 'instrumentalness': 9.54e-05, 'liveness': 0.0897, 'valence': 0.334, 'tempo': 171.005, 'type': 'audio_features', 'id': '0VjIjW4GlUZAMYd2vXMi3b', 'uri': 'spotify:track:0VjIjW4GlUZAMYd2vXMi3b', 'track_href': 'https://api.spotify.com/v1/tracks/0VjIjW4GlUZAMYd2vXMi3b', 'analysis_url': 'https://api.spotify.com/v1/audio-analysis/0VjIjW4GlUZAMYd2vXMi3b', 'duration_ms': 200040, 'time_signature': 4}\n",
      "Imagine Dragons+Bones:  -> {'danceability': 0.772, 'energy': 0.75, 'key': 5, 'loudness': -3.67, 'mode': 0, 'speechiness': 0.0455, 'acousticness': 0.0201, 'instrumentalness': 0, 'liveness': 0.074, 'valence': 0.587, 'tempo': 114.061, 'type': 'audio_features', 'id': '54ipXppHLA8U4yqpOFTUhr', 'uri': 'spotify:track:54ipXppHLA8U4yqpOFTUhr', 'track_href': 'https://api.spotify.com/v1/tracks/54ipXppHLA8U4yqpOFTUhr', 'analysis_url': 'https://api.spotify.com/v1/audio-analysis/54ipXppHLA8U4yqpOFTUhr', 'duration_ms': 165265, 'time_signature': 4}\n",
      "Ghost+Mary On A Cross:  -> {'danceability': 0.466, 'energy': 0.9, 'key': 11, 'loudness': -4.469, 'mode': 1, 'speechiness': 0.0447, 'acousticness': 0.000235, 'instrumentalness': 0.00104, 'liveness': 0.103, 'valence': 0.561, 'tempo': 130.02, 'type': 'audio_features', 'id': '2HZLXBOnaSRhXStMLrq9fD', 'uri': 'spotify:track:2HZLXBOnaSRhXStMLrq9fD', 'track_href': 'https://api.spotify.com/v1/tracks/2HZLXBOnaSRhXStMLrq9fD', 'analysis_url': 'https://api.spotify.com/v1/audio-analysis/2HZLXBOnaSRhXStMLrq9fD', 'duration_ms': 244804, 'time_signature': 4}\n",
      "Bad Bunny+La Corriente:  -> {'danceability': 0.663, 'energy': 0.786, 'key': 11, 'loudness': -3.51, 'mode': 0, 'speechiness': 0.195, 'acousticness': 0.229, 'instrumentalness': 0, 'liveness': 0.219, 'valence': 0.579, 'tempo': 196.12, 'type': 'audio_features', 'id': '1797zYiX4cKosMH836X9Gt', 'uri': 'spotify:track:1797zYiX4cKosMH836X9Gt', 'track_href': 'https://api.spotify.com/v1/tracks/1797zYiX4cKosMH836X9Gt', 'analysis_url': 'https://api.spotify.com/v1/audio-analysis/1797zYiX4cKosMH836X9Gt', 'duration_ms': 198367, 'time_signature': 4}\n",
      "Justin Bieber+Ghost:  -> {'danceability': 0.601, 'energy': 0.741, 'key': 2, 'loudness': -5.569, 'mode': 1, 'speechiness': 0.0478, 'acousticness': 0.185, 'instrumentalness': 2.91e-05, 'liveness': 0.415, 'valence': 0.441, 'tempo': 153.96, 'type': 'audio_features', 'id': '6I3mqTwhRpn34SLVafSH7G', 'uri': 'spotify:track:6I3mqTwhRpn34SLVafSH7G', 'track_href': 'https://api.spotify.com/v1/tracks/6I3mqTwhRpn34SLVafSH7G', 'analysis_url': 'https://api.spotify.com/v1/audio-analysis/6I3mqTwhRpn34SLVafSH7G', 'duration_ms': 153190, 'time_signature': 4}\n"
     ]
    }
   ],
   "source": [
    "for key, value in dct_response.items():\n",
    "    data = {}\n",
    "    value\n"
   ]
  },
  {
   "cell_type": "code",
   "execution_count": 8,
   "metadata": {},
   "outputs": [
    {
     "data": {
      "text/plain": [
       "dict_values([{'danceability': 0.621, 'energy': 0.782, 'key': 2, 'loudness': -5.548, 'mode': 1, 'speechiness': 0.044, 'acousticness': 0.0125, 'instrumentalness': 0.033, 'liveness': 0.23, 'valence': 0.55, 'tempo': 128.033, 'type': 'audio_features', 'id': '2tTmW7RDtMQtBk7m2rYeSw', 'uri': 'spotify:track:2tTmW7RDtMQtBk7m2rYeSw', 'track_href': 'https://api.spotify.com/v1/tracks/2tTmW7RDtMQtBk7m2rYeSw', 'analysis_url': 'https://api.spotify.com/v1/audio-analysis/2tTmW7RDtMQtBk7m2rYeSw', 'duration_ms': 198938, 'time_signature': 4}, {'danceability': 0.52, 'energy': 0.731, 'key': 6, 'loudness': -5.338, 'mode': 0, 'speechiness': 0.0557, 'acousticness': 0.342, 'instrumentalness': 0.00101, 'liveness': 0.311, 'valence': 0.662, 'tempo': 173.93, 'type': 'audio_features', 'id': '4Dvkj6JhhA12EX05fT7y2e', 'uri': 'spotify:track:4Dvkj6JhhA12EX05fT7y2e', 'track_href': 'https://api.spotify.com/v1/tracks/4Dvkj6JhhA12EX05fT7y2e', 'analysis_url': 'https://api.spotify.com/v1/audio-analysis/4Dvkj6JhhA12EX05fT7y2e', 'duration_ms': 167303, 'time_signature': 4}, {'danceability': 0.911, 'energy': 0.712, 'key': 1, 'loudness': -5.105, 'mode': 0, 'speechiness': 0.0817, 'acousticness': 0.0901, 'instrumentalness': 2.68e-05, 'liveness': 0.0933, 'valence': 0.425, 'tempo': 92.005, 'type': 'audio_features', 'id': '6Sq7ltF9Qa7SNFBsV5Cogx', 'uri': 'spotify:track:6Sq7ltF9Qa7SNFBsV5Cogx', 'track_href': 'https://api.spotify.com/v1/tracks/6Sq7ltF9Qa7SNFBsV5Cogx', 'analysis_url': 'https://api.spotify.com/v1/audio-analysis/6Sq7ltF9Qa7SNFBsV5Cogx', 'duration_ms': 178567, 'time_signature': 4}, {'danceability': 0.65, 'energy': 0.715, 'key': 5, 'loudness': -5.198, 'mode': 0, 'speechiness': 0.253, 'acousticness': 0.0993, 'instrumentalness': 0.000291, 'liveness': 0.126, 'valence': 0.187, 'tempo': 106.672, 'type': 'audio_features', 'id': '1IHWl5LamUGEuP4ozKQSXZ', 'uri': 'spotify:track:1IHWl5LamUGEuP4ozKQSXZ', 'track_href': 'https://api.spotify.com/v1/tracks/1IHWl5LamUGEuP4ozKQSXZ', 'analysis_url': 'https://api.spotify.com/v1/audio-analysis/1IHWl5LamUGEuP4ozKQSXZ', 'duration_ms': 243717, 'time_signature': 4}, {'danceability': 0.798, 'energy': 0.697, 'key': 0, 'loudness': -7.139, 'mode': 1, 'speechiness': 0.0891, 'acousticness': 0.0202, 'instrumentalness': 0, 'liveness': 0.259, 'valence': 0.745, 'tempo': 90.031, 'type': 'audio_features', 'id': '0skYUMpS0AcbpjcGsAbRGj', 'uri': 'spotify:track:0skYUMpS0AcbpjcGsAbRGj', 'track_href': 'https://api.spotify.com/v1/tracks/0skYUMpS0AcbpjcGsAbRGj', 'analysis_url': 'https://api.spotify.com/v1/audio-analysis/0skYUMpS0AcbpjcGsAbRGj', 'duration_ms': 186964, 'time_signature': 4}, {'danceability': 0.919, 'energy': 0.623, 'key': 7, 'loudness': -6.521, 'mode': 1, 'speechiness': 0.0992, 'acousticness': 0.184, 'instrumentalness': 1.63e-05, 'liveness': 0.0609, 'valence': 0.775, 'tempo': 130.037, 'type': 'audio_features', 'id': '5ildQOEKmJuWGl2vRkFdYc', 'uri': 'spotify:track:5ildQOEKmJuWGl2vRkFdYc', 'track_href': 'https://api.spotify.com/v1/tracks/5ildQOEKmJuWGl2vRkFdYc', 'analysis_url': 'https://api.spotify.com/v1/audio-analysis/5ildQOEKmJuWGl2vRkFdYc', 'duration_ms': 157018, 'time_signature': 4}, {'danceability': 0.801, 'energy': 0.475, 'key': 7, 'loudness': -8.797, 'mode': 0, 'speechiness': 0.0516, 'acousticness': 0.141, 'instrumentalness': 1.73e-05, 'liveness': 0.0639, 'valence': 0.234, 'tempo': 98.047, 'type': 'audio_features', 'id': '5Eax0qFko2dh7Rl2lYs3bx', 'uri': 'spotify:track:5Eax0qFko2dh7Rl2lYs3bx', 'track_href': 'https://api.spotify.com/v1/tracks/5Eax0qFko2dh7Rl2lYs3bx', 'analysis_url': 'https://api.spotify.com/v1/audio-analysis/5Eax0qFko2dh7Rl2lYs3bx', 'duration_ms': 213061, 'time_signature': 4}, {'danceability': 0.835, 'energy': 0.679, 'key': 7, 'loudness': -5.329, 'mode': 0, 'speechiness': 0.0364, 'acousticness': 0.583, 'instrumentalness': 1.98e-06, 'liveness': 0.218, 'valence': 0.85, 'tempo': 124.98, 'type': 'audio_features', 'id': '5ww2BF9slyYgNOk37BlC4u', 'uri': 'spotify:track:5ww2BF9slyYgNOk37BlC4u', 'track_href': 'https://api.spotify.com/v1/tracks/5ww2BF9slyYgNOk37BlC4u', 'analysis_url': 'https://api.spotify.com/v1/audio-analysis/5ww2BF9slyYgNOk37BlC4u', 'duration_ms': 162638, 'time_signature': 4}, {'danceability': 0.629, 'energy': 0.547, 'key': 10, 'loudness': -13.123, 'mode': 0, 'speechiness': 0.055, 'acousticness': 0.72, 'instrumentalness': 0.00314, 'liveness': 0.0604, 'valence': 0.197, 'tempo': 108.375, 'type': 'audio_features', 'id': '75FEaRjZTKLhTrFGsfMUXR', 'uri': 'spotify:track:75FEaRjZTKLhTrFGsfMUXR', 'track_href': 'https://api.spotify.com/v1/tracks/75FEaRjZTKLhTrFGsfMUXR', 'analysis_url': 'https://api.spotify.com/v1/audio-analysis/75FEaRjZTKLhTrFGsfMUXR', 'duration_ms': 298933, 'time_signature': 4}, {'danceability': 0.647, 'energy': 0.686, 'key': 3, 'loudness': -5.745, 'mode': 0, 'speechiness': 0.0413, 'acousticness': 0.08, 'instrumentalness': 1.34e-06, 'liveness': 0.528, 'valence': 0.268, 'tempo': 79.928, 'type': 'audio_features', 'id': '3k3NWokhRRkEPhCzPmV8TW', 'uri': 'spotify:track:3k3NWokhRRkEPhCzPmV8TW', 'track_href': 'https://api.spotify.com/v1/tracks/3k3NWokhRRkEPhCzPmV8TW', 'analysis_url': 'https://api.spotify.com/v1/audio-analysis/3k3NWokhRRkEPhCzPmV8TW', 'duration_ms': 258299, 'time_signature': 4}, {'danceability': 0.44, 'energy': 0.317, 'key': 8, 'loudness': -9.258, 'mode': 1, 'speechiness': 0.0531, 'acousticness': 0.891, 'instrumentalness': 4.78e-06, 'liveness': 0.141, 'valence': 0.268, 'tempo': 169.914, 'type': 'audio_features', 'id': '6xGruZOHLs39ZbVccQTuPZ', 'uri': 'spotify:track:6xGruZOHLs39ZbVccQTuPZ', 'track_href': 'https://api.spotify.com/v1/tracks/6xGruZOHLs39ZbVccQTuPZ', 'analysis_url': 'https://api.spotify.com/v1/audio-analysis/6xGruZOHLs39ZbVccQTuPZ', 'duration_ms': 233456, 'time_signature': 3}, {'danceability': 0.704, 'energy': 0.797, 'key': 0, 'loudness': -5.927, 'mode': 1, 'speechiness': 0.0475, 'acousticness': 0.0826, 'instrumentalness': 0.000745, 'liveness': 0.0546, 'valence': 0.825, 'tempo': 139.994, 'type': 'audio_features', 'id': '4h9wh7iOZ0GGn8QVp4RAOB', 'uri': 'spotify:track:4h9wh7iOZ0GGn8QVp4RAOB', 'track_href': 'https://api.spotify.com/v1/tracks/4h9wh7iOZ0GGn8QVp4RAOB', 'analysis_url': 'https://api.spotify.com/v1/audio-analysis/4h9wh7iOZ0GGn8QVp4RAOB', 'duration_ms': 148486, 'time_signature': 4}, {'danceability': 0.686, 'energy': 0.494, 'key': 1, 'loudness': -7.093, 'mode': 1, 'speechiness': 0.0355, 'acousticness': 0.613, 'instrumentalness': 5.8e-05, 'liveness': 0.402, 'valence': 0.7, 'tempo': 168.946, 'type': 'audio_features', 'id': '4k6Uh1HXdhtusDW5y8Gbvy', 'uri': 'spotify:track:4k6Uh1HXdhtusDW5y8Gbvy', 'track_href': 'https://api.spotify.com/v1/tracks/4k6Uh1HXdhtusDW5y8Gbvy', 'analysis_url': 'https://api.spotify.com/v1/audio-analysis/4k6Uh1HXdhtusDW5y8Gbvy', 'duration_ms': 232067, 'time_signature': 4}, {'danceability': 0.804, 'energy': 0.674, 'key': 5, 'loudness': -5.453, 'mode': 0, 'speechiness': 0.0333, 'acousticness': 0.294, 'instrumentalness': 1.18e-06, 'liveness': 0.115, 'valence': 0.292, 'tempo': 99.968, 'type': 'audio_features', 'id': '6Xom58OOXk2SoU711L2IXO', 'uri': 'spotify:track:6Xom58OOXk2SoU711L2IXO', 'track_href': 'https://api.spotify.com/v1/tracks/6Xom58OOXk2SoU711L2IXO', 'analysis_url': 'https://api.spotify.com/v1/audio-analysis/6Xom58OOXk2SoU711L2IXO', 'duration_ms': 245940, 'time_signature': 4}, {'danceability': 0.733, 'energy': 0.69, 'key': 9, 'loudness': -5.529, 'mode': 0, 'speechiness': 0.0427, 'acousticness': 0.0635, 'instrumentalness': 1.18e-06, 'liveness': 0.105, 'valence': 0.31, 'tempo': 116.992, 'type': 'audio_features', 'id': '5IgjP7X4th6nMNDh4akUHb', 'uri': 'spotify:track:5IgjP7X4th6nMNDh4akUHb', 'track_href': 'https://api.spotify.com/v1/tracks/5IgjP7X4th6nMNDh4akUHb', 'analysis_url': 'https://api.spotify.com/v1/audio-analysis/5IgjP7X4th6nMNDh4akUHb', 'duration_ms': 184613, 'time_signature': 4}, {'danceability': 0.761, 'energy': 0.525, 'key': 11, 'loudness': -6.9, 'mode': 1, 'speechiness': 0.0944, 'acousticness': 0.44, 'instrumentalness': 6.7e-06, 'liveness': 0.0921, 'valence': 0.531, 'tempo': 80.87, 'type': 'audio_features', 'id': '02MWAaffLxlfxAUY7c5dvx', 'uri': 'spotify:track:02MWAaffLxlfxAUY7c5dvx', 'track_href': 'https://api.spotify.com/v1/tracks/02MWAaffLxlfxAUY7c5dvx', 'analysis_url': 'https://api.spotify.com/v1/audio-analysis/02MWAaffLxlfxAUY7c5dvx', 'duration_ms': 238805, 'time_signature': 4}, {'danceability': 0.87, 'energy': 0.516, 'key': 1, 'loudness': -8.006, 'mode': 1, 'speechiness': 0.0541, 'acousticness': 0.656, 'instrumentalness': 0.00823, 'liveness': 0.11, 'valence': 0.53, 'tempo': 111.005, 'type': 'audio_features', 'id': '7dSZ6zGTQx66c2GF91xCrb', 'uri': 'spotify:track:7dSZ6zGTQx66c2GF91xCrb', 'track_href': 'https://api.spotify.com/v1/tracks/7dSZ6zGTQx66c2GF91xCrb', 'analysis_url': 'https://api.spotify.com/v1/audio-analysis/7dSZ6zGTQx66c2GF91xCrb', 'duration_ms': 210200, 'time_signature': 4}, {'danceability': 0.881, 'energy': 0.592, 'key': 2, 'loudness': -4.898, 'mode': 1, 'speechiness': 0.0324, 'acousticness': 0.619, 'instrumentalness': 1.32e-05, 'liveness': 0.0901, 'valence': 0.719, 'tempo': 101.058, 'type': 'audio_features', 'id': '0mBP9X2gPCuapvpZ7TGDk3', 'uri': 'spotify:track:0mBP9X2gPCuapvpZ7TGDk3', 'track_href': 'https://api.spotify.com/v1/tracks/0mBP9X2gPCuapvpZ7TGDk3', 'analysis_url': 'https://api.spotify.com/v1/audio-analysis/0mBP9X2gPCuapvpZ7TGDk3', 'duration_ms': 154487, 'time_signature': 4}, {'danceability': 0.951, 'energy': 0.878, 'key': 2, 'loudness': -2.565, 'mode': 1, 'speechiness': 0.211, 'acousticness': 0.0509, 'instrumentalness': 1.61e-05, 'liveness': 0.321, 'valence': 0.923, 'tempo': 133.014, 'type': 'audio_features', 'id': '2yjlYDiNiQkdxVqTlaSrlX', 'uri': 'spotify:track:2yjlYDiNiQkdxVqTlaSrlX', 'track_href': 'https://api.spotify.com/v1/tracks/2yjlYDiNiQkdxVqTlaSrlX', 'analysis_url': 'https://api.spotify.com/v1/audio-analysis/2yjlYDiNiQkdxVqTlaSrlX', 'duration_ms': 170977, 'time_signature': 4}, {'danceability': 0.565, 'energy': 0.636, 'key': 0, 'loudness': -8.198, 'mode': 1, 'speechiness': 0.0638, 'acousticness': 0.107, 'instrumentalness': 9.9e-06, 'liveness': 0.447, 'valence': 0.525, 'tempo': 170.01, 'type': 'audio_features', 'id': '6zJejIfVYLgjud3lTk4DLB', 'uri': 'spotify:track:6zJejIfVYLgjud3lTk4DLB', 'track_href': 'https://api.spotify.com/v1/tracks/6zJejIfVYLgjud3lTk4DLB', 'analysis_url': 'https://api.spotify.com/v1/audio-analysis/6zJejIfVYLgjud3lTk4DLB', 'duration_ms': 179551, 'time_signature': 4}, {'danceability': 0.591, 'energy': 0.764, 'key': 1, 'loudness': -5.484, 'mode': 1, 'speechiness': 0.0483, 'acousticness': 0.0383, 'instrumentalness': 0, 'liveness': 0.103, 'valence': 0.478, 'tempo': 169.928, 'type': 'audio_features', 'id': '5PjdY0CKGZdEuoNab3yDmX', 'uri': 'spotify:track:5PjdY0CKGZdEuoNab3yDmX', 'track_href': 'https://api.spotify.com/v1/tracks/5PjdY0CKGZdEuoNab3yDmX', 'analysis_url': 'https://api.spotify.com/v1/audio-analysis/5PjdY0CKGZdEuoNab3yDmX', 'duration_ms': 141806, 'time_signature': 4}, {'danceability': 0.442, 'energy': 0.538, 'key': 4, 'loudness': -8.55, 'mode': 0, 'speechiness': 0.0451, 'acousticness': 0.717, 'instrumentalness': 2.95e-05, 'liveness': 0.09, 'valence': 0.139, 'tempo': 122.758, 'type': 'audio_features', 'id': '7jtQIBanIiJOMS6RyCx6jZ', 'uri': 'spotify:track:7jtQIBanIiJOMS6RyCx6jZ', 'track_href': 'https://api.spotify.com/v1/tracks/7jtQIBanIiJOMS6RyCx6jZ', 'analysis_url': 'https://api.spotify.com/v1/audio-analysis/7jtQIBanIiJOMS6RyCx6jZ', 'duration_ms': 244360, 'time_signature': 4}, {'danceability': 0.911, 'energy': 0.573, 'key': 6, 'loudness': -7.43, 'mode': 1, 'speechiness': 0.288, 'acousticness': 0.38, 'instrumentalness': 0, 'liveness': 0.403, 'valence': 0.972, 'tempo': 140.04, 'type': 'audio_features', 'id': '3LtpKP5abr2qqjunvjlX5i', 'uri': 'spotify:track:3LtpKP5abr2qqjunvjlX5i', 'track_href': 'https://api.spotify.com/v1/tracks/3LtpKP5abr2qqjunvjlX5i', 'analysis_url': 'https://api.spotify.com/v1/audio-analysis/3LtpKP5abr2qqjunvjlX5i', 'duration_ms': 97393, 'time_signature': 4}, {'danceability': 0.876, 'energy': 0.498, 'key': 10, 'loudness': -7.511, 'mode': 1, 'speechiness': 0.0478, 'acousticness': 0.0706, 'instrumentalness': 0, 'liveness': 0.143, 'valence': 0.428, 'tempo': 122.016, 'type': 'audio_features', 'id': '31i56LZnwE6uSu3exoHjtB', 'uri': 'spotify:track:31i56LZnwE6uSu3exoHjtB', 'track_href': 'https://api.spotify.com/v1/tracks/31i56LZnwE6uSu3exoHjtB', 'analysis_url': 'https://api.spotify.com/v1/audio-analysis/31i56LZnwE6uSu3exoHjtB', 'duration_ms': 173119, 'time_signature': 4}, {'danceability': 0.714, 'energy': 0.728, 'key': 10, 'loudness': -4.595, 'mode': 1, 'speechiness': 0.0468, 'acousticness': 0.298, 'instrumentalness': 0, 'liveness': 0.106, 'valence': 0.901, 'tempo': 114.996, 'type': 'audio_features', 'id': '1qEmFfgcLObUfQm0j1W2CK', 'uri': 'spotify:track:1qEmFfgcLObUfQm0j1W2CK', 'track_href': 'https://api.spotify.com/v1/tracks/1qEmFfgcLObUfQm0j1W2CK', 'analysis_url': 'https://api.spotify.com/v1/audio-analysis/1qEmFfgcLObUfQm0j1W2CK', 'duration_ms': 177955, 'time_signature': 4}, {'danceability': 0.795, 'energy': 0.8, 'key': 1, 'loudness': -6.32, 'mode': 1, 'speechiness': 0.0309, 'acousticness': 0.0354, 'instrumentalness': 7.25e-05, 'liveness': 0.0915, 'valence': 0.934, 'tempo': 116.032, 'type': 'audio_features', 'id': '6JIC3hbC28JZKZ8AlAqX8h', 'uri': 'spotify:track:6JIC3hbC28JZKZ8AlAqX8h', 'track_href': 'https://api.spotify.com/v1/tracks/6JIC3hbC28JZKZ8AlAqX8h', 'analysis_url': 'https://api.spotify.com/v1/audio-analysis/6JIC3hbC28JZKZ8AlAqX8h', 'duration_ms': 202735, 'time_signature': 4}, {'danceability': 0.346, 'energy': 0.5, 'key': 10, 'loudness': -6.097, 'mode': 1, 'speechiness': 0.0388, 'acousticness': 0.757, 'instrumentalness': 0, 'liveness': 0.189, 'valence': 0.191, 'tempo': 202.466, 'type': 'audio_features', 'id': '6VhuP99TE6gYNQRJIlAWFD', 'uri': 'spotify:track:6VhuP99TE6gYNQRJIlAWFD', 'track_href': 'https://api.spotify.com/v1/tracks/6VhuP99TE6gYNQRJIlAWFD', 'analysis_url': 'https://api.spotify.com/v1/audio-analysis/6VhuP99TE6gYNQRJIlAWFD', 'duration_ms': 176667, 'time_signature': 3}, {'danceability': 0.795, 'energy': 0.684, 'key': 11, 'loudness': -3.971, 'mode': 0, 'speechiness': 0.0419, 'acousticness': 0.0225, 'instrumentalness': 0, 'liveness': 0.658, 'valence': 0.419, 'tempo': 114.011, 'type': 'audio_features', 'id': '41oY4WCTj5kccfesTVFnvN', 'uri': 'spotify:track:41oY4WCTj5kccfesTVFnvN', 'track_href': 'https://api.spotify.com/v1/tracks/41oY4WCTj5kccfesTVFnvN', 'analysis_url': 'https://api.spotify.com/v1/audio-analysis/41oY4WCTj5kccfesTVFnvN', 'duration_ms': 237895, 'time_signature': 4}, {'danceability': 0.836, 'energy': 0.743, 'key': 10, 'loudness': -6.305, 'mode': 0, 'speechiness': 0.0653, 'acousticness': 0.0974, 'instrumentalness': 0, 'liveness': 0.335, 'valence': 0.723, 'tempo': 108.965, 'type': 'audio_features', 'id': '6HMtHNpW6YPi1hrw9tgF8P', 'uri': 'spotify:track:6HMtHNpW6YPi1hrw9tgF8P', 'track_href': 'https://api.spotify.com/v1/tracks/6HMtHNpW6YPi1hrw9tgF8P', 'analysis_url': 'https://api.spotify.com/v1/audio-analysis/6HMtHNpW6YPi1hrw9tgF8P', 'duration_ms': 191938, 'time_signature': 4}, {'danceability': 0.768, 'energy': 0.714, 'key': 10, 'loudness': -5.11, 'mode': 1, 'speechiness': 0.0401, 'acousticness': 0.352, 'instrumentalness': 0, 'liveness': 0.15, 'valence': 0.842, 'tempo': 131.443, 'type': 'audio_features', 'id': '4h4QlmocP3IuwYEj2j14p8', 'uri': 'spotify:track:4h4QlmocP3IuwYEj2j14p8', 'track_href': 'https://api.spotify.com/v1/tracks/4h4QlmocP3IuwYEj2j14p8', 'analysis_url': 'https://api.spotify.com/v1/audio-analysis/4h4QlmocP3IuwYEj2j14p8', 'duration_ms': 163026, 'time_signature': 4}, {'danceability': 0.733, 'energy': 0.67, 'key': 5, 'loudness': -6.009, 'mode': 1, 'speechiness': 0.0751, 'acousticness': 0.121, 'instrumentalness': 0, 'liveness': 0.121, 'valence': 0.472, 'tempo': 100.964, 'type': 'audio_features', 'id': '0O6u0VJ46W86TxN9wgyqDj', 'uri': 'spotify:track:0O6u0VJ46W86TxN9wgyqDj', 'track_href': 'https://api.spotify.com/v1/tracks/0O6u0VJ46W86TxN9wgyqDj', 'analysis_url': 'https://api.spotify.com/v1/audio-analysis/0O6u0VJ46W86TxN9wgyqDj', 'duration_ms': 192841, 'time_signature': 4}, {'danceability': 0.667, 'energy': 0.75, 'key': 0, 'loudness': -4.602, 'mode': 1, 'speechiness': 0.0906, 'acousticness': 0.0746, 'instrumentalness': 0.000198, 'liveness': 0.197, 'valence': 0.486, 'tempo': 126.041, 'type': 'audio_features', 'id': '72yP0DUlWPyH8P7IoxskwN', 'uri': 'spotify:track:72yP0DUlWPyH8P7IoxskwN', 'track_href': 'https://api.spotify.com/v1/tracks/72yP0DUlWPyH8P7IoxskwN', 'analysis_url': 'https://api.spotify.com/v1/audio-analysis/72yP0DUlWPyH8P7IoxskwN', 'duration_ms': 202246, 'time_signature': 4}, {'danceability': 0.586, 'energy': 0.525, 'key': 1, 'loudness': -7.163, 'mode': 0, 'speechiness': 0.0615, 'acousticness': 0.111, 'instrumentalness': 0, 'liveness': 0.134, 'valence': 0.508, 'tempo': 133.629, 'type': 'audio_features', 'id': '2LBqCSwhJGcFQeTHMVGwy3', 'uri': 'spotify:track:2LBqCSwhJGcFQeTHMVGwy3', 'track_href': 'https://api.spotify.com/v1/tracks/2LBqCSwhJGcFQeTHMVGwy3', 'analysis_url': 'https://api.spotify.com/v1/audio-analysis/2LBqCSwhJGcFQeTHMVGwy3', 'duration_ms': 260253, 'time_signature': 4}, {'danceability': 0.695, 'energy': 0.636, 'key': 5, 'loudness': -4.654, 'mode': 1, 'speechiness': 0.317, 'acousticness': 0.234, 'instrumentalness': 0, 'liveness': 0.081, 'valence': 0.575, 'tempo': 174.14, 'type': 'audio_features', 'id': '2rurDawMfoKP4uHyb2kJBt', 'uri': 'spotify:track:2rurDawMfoKP4uHyb2kJBt', 'track_href': 'https://api.spotify.com/v1/tracks/2rurDawMfoKP4uHyb2kJBt', 'analysis_url': 'https://api.spotify.com/v1/audio-analysis/2rurDawMfoKP4uHyb2kJBt', 'duration_ms': 172235, 'time_signature': 4}, {'danceability': 0.829, 'energy': 0.799, 'key': 9, 'loudness': -5.389, 'mode': 1, 'speechiness': 0.0897, 'acousticness': 0.0151, 'instrumentalness': 0.000543, 'liveness': 0.242, 'valence': 0.471, 'tempo': 97.013, 'type': 'audio_features', 'id': '4tYFy8ALRjIZvnvSLw5lxN', 'uri': 'spotify:track:4tYFy8ALRjIZvnvSLw5lxN', 'track_href': 'https://api.spotify.com/v1/tracks/4tYFy8ALRjIZvnvSLw5lxN', 'analysis_url': 'https://api.spotify.com/v1/audio-analysis/4tYFy8ALRjIZvnvSLw5lxN', 'duration_ms': 227629, 'time_signature': 4}, {'danceability': 0.627, 'energy': 0.858, 'key': 11, 'loudness': -2.824, 'mode': 0, 'speechiness': 0.386, 'acousticness': 0.263, 'instrumentalness': 0, 'liveness': 0.21, 'valence': 0.342, 'tempo': 92.523, 'type': 'audio_features', 'id': '1ga4PztXOIw1yBbdUt2X8v', 'uri': 'spotify:track:1ga4PztXOIw1yBbdUt2X8v', 'track_href': 'https://api.spotify.com/v1/tracks/1ga4PztXOIw1yBbdUt2X8v', 'analysis_url': 'https://api.spotify.com/v1/audio-analysis/1ga4PztXOIw1yBbdUt2X8v', 'duration_ms': 209160, 'time_signature': 4}, {'danceability': 0.612, 'energy': 0.807, 'key': 10, 'loudness': -2.81, 'mode': 1, 'speechiness': 0.0336, 'acousticness': 0.0495, 'instrumentalness': 0.0177, 'liveness': 0.101, 'valence': 0.398, 'tempo': 124.053, 'type': 'audio_features', 'id': '2QjOHCTQ1Jl3zawyYOpxh6', 'uri': 'spotify:track:2QjOHCTQ1Jl3zawyYOpxh6', 'track_href': 'https://api.spotify.com/v1/tracks/2QjOHCTQ1Jl3zawyYOpxh6', 'analysis_url': 'https://api.spotify.com/v1/audio-analysis/2QjOHCTQ1Jl3zawyYOpxh6', 'duration_ms': 240400, 'time_signature': 4}, {'danceability': 0.704, 'energy': 0.756, 'key': 0, 'loudness': -4.948, 'mode': 1, 'speechiness': 0.448, 'acousticness': 0.298, 'instrumentalness': 3.75e-06, 'liveness': 0.0852, 'valence': 0.461, 'tempo': 121.737, 'type': 'audio_features', 'id': '6i1g5ZRmJZAkDwBaUZ3f2i', 'uri': 'spotify:track:6i1g5ZRmJZAkDwBaUZ3f2i', 'track_href': 'https://api.spotify.com/v1/tracks/6i1g5ZRmJZAkDwBaUZ3f2i', 'analysis_url': 'https://api.spotify.com/v1/audio-analysis/6i1g5ZRmJZAkDwBaUZ3f2i', 'duration_ms': 141340, 'time_signature': 3}, {'danceability': 0.847, 'energy': 0.69, 'key': 1, 'loudness': -7.877, 'mode': 0, 'speechiness': 0.0493, 'acousticness': 0.0127, 'instrumentalness': 6e-05, 'liveness': 0.0526, 'valence': 0.692, 'tempo': 125.004, 'type': 'audio_features', 'id': '4zN21mbAuaD0WqtmaTZZeP', 'uri': 'spotify:track:4zN21mbAuaD0WqtmaTZZeP', 'track_href': 'https://api.spotify.com/v1/tracks/4zN21mbAuaD0WqtmaTZZeP', 'analysis_url': 'https://api.spotify.com/v1/audio-analysis/4zN21mbAuaD0WqtmaTZZeP', 'duration_ms': 186662, 'time_signature': 4}, {'danceability': 0.561, 'energy': 0.965, 'key': 7, 'loudness': -3.673, 'mode': 0, 'speechiness': 0.0343, 'acousticness': 0.00383, 'instrumentalness': 7.07e-06, 'liveness': 0.371, 'valence': 0.304, 'tempo': 128.04, 'type': 'audio_features', 'id': '4uUG5RXrOk84mYEfFvj3cK', 'uri': 'spotify:track:4uUG5RXrOk84mYEfFvj3cK', 'track_href': 'https://api.spotify.com/v1/tracks/4uUG5RXrOk84mYEfFvj3cK', 'analysis_url': 'https://api.spotify.com/v1/audio-analysis/4uUG5RXrOk84mYEfFvj3cK', 'duration_ms': 175238, 'time_signature': 4}, {'danceability': 0.68, 'energy': 0.922, 'key': 0, 'loudness': -1.215, 'mode': 1, 'speechiness': 0.121, 'acousticness': 0.103, 'instrumentalness': 0, 'liveness': 0.0877, 'valence': 0.799, 'tempo': 125.014, 'type': 'audio_features', 'id': '2gYj9lubBorOPIVWsTXugG', 'uri': 'spotify:track:2gYj9lubBorOPIVWsTXugG', 'track_href': 'https://api.spotify.com/v1/tracks/2gYj9lubBorOPIVWsTXugG', 'analysis_url': 'https://api.spotify.com/v1/audio-analysis/2gYj9lubBorOPIVWsTXugG', 'duration_ms': 176973, 'time_signature': 4}, {'danceability': 0.627, 'energy': 0.429, 'key': 1, 'loudness': -8.255, 'mode': 1, 'speechiness': 0.234, 'acousticness': 0.238, 'instrumentalness': 0, 'liveness': 0.122, 'valence': 0.565, 'tempo': 126.426, 'type': 'audio_features', 'id': '3fjN3y5x4hN53rykAN2LHQ', 'uri': 'spotify:track:3fjN3y5x4hN53rykAN2LHQ', 'track_href': 'https://api.spotify.com/v1/tracks/3fjN3y5x4hN53rykAN2LHQ', 'analysis_url': 'https://api.spotify.com/v1/audio-analysis/3fjN3y5x4hN53rykAN2LHQ', 'duration_ms': 112572, 'time_signature': 5}, {'danceability': 0.756, 'energy': 0.697, 'key': 8, 'loudness': -6.377, 'mode': 1, 'speechiness': 0.0401, 'acousticness': 0.182, 'instrumentalness': 0, 'liveness': 0.333, 'valence': 0.956, 'tempo': 94.996, 'type': 'audio_features', 'id': '2DB4DdfCFMw1iaR6JaR03a', 'uri': 'spotify:track:2DB4DdfCFMw1iaR6JaR03a', 'track_href': 'https://api.spotify.com/v1/tracks/2DB4DdfCFMw1iaR6JaR03a', 'analysis_url': 'https://api.spotify.com/v1/audio-analysis/2DB4DdfCFMw1iaR6JaR03a', 'duration_ms': 206071, 'time_signature': 4}, {'danceability': 0.762, 'energy': 0.861, 'key': 0, 'loudness': -3.296, 'mode': 1, 'speechiness': 0.0955, 'acousticness': 0.0185, 'instrumentalness': 0, 'liveness': 0.264, 'valence': 0.955, 'tempo': 120.048, 'type': 'audio_features', 'id': '0xzI1KAr0Yd9tv8jlIk3sn', 'uri': 'spotify:track:0xzI1KAr0Yd9tv8jlIk3sn', 'track_href': 'https://api.spotify.com/v1/tracks/0xzI1KAr0Yd9tv8jlIk3sn', 'analysis_url': 'https://api.spotify.com/v1/audio-analysis/0xzI1KAr0Yd9tv8jlIk3sn', 'duration_ms': 172714, 'time_signature': 4}, {'danceability': 0.529, 'energy': 0.673, 'key': 0, 'loudness': -4.711, 'mode': 1, 'speechiness': 0.175, 'acousticness': 0.000307, 'instrumentalness': 2.41e-06, 'liveness': 0.093, 'valence': 0.366, 'tempo': 165.921, 'type': 'audio_features', 'id': '3F5CgOj3wFlRv51JsHbxhe', 'uri': 'spotify:track:3F5CgOj3wFlRv51JsHbxhe', 'track_href': 'https://api.spotify.com/v1/tracks/3F5CgOj3wFlRv51JsHbxhe', 'analysis_url': 'https://api.spotify.com/v1/audio-analysis/3F5CgOj3wFlRv51JsHbxhe', 'duration_ms': 218365, 'time_signature': 4}, {'danceability': 0.514, 'energy': 0.73, 'key': 1, 'loudness': -5.934, 'mode': 1, 'speechiness': 0.0598, 'acousticness': 0.00146, 'instrumentalness': 9.54e-05, 'liveness': 0.0897, 'valence': 0.334, 'tempo': 171.005, 'type': 'audio_features', 'id': '0VjIjW4GlUZAMYd2vXMi3b', 'uri': 'spotify:track:0VjIjW4GlUZAMYd2vXMi3b', 'track_href': 'https://api.spotify.com/v1/tracks/0VjIjW4GlUZAMYd2vXMi3b', 'analysis_url': 'https://api.spotify.com/v1/audio-analysis/0VjIjW4GlUZAMYd2vXMi3b', 'duration_ms': 200040, 'time_signature': 4}, {'danceability': 0.772, 'energy': 0.75, 'key': 5, 'loudness': -3.67, 'mode': 0, 'speechiness': 0.0455, 'acousticness': 0.0201, 'instrumentalness': 0, 'liveness': 0.074, 'valence': 0.587, 'tempo': 114.061, 'type': 'audio_features', 'id': '54ipXppHLA8U4yqpOFTUhr', 'uri': 'spotify:track:54ipXppHLA8U4yqpOFTUhr', 'track_href': 'https://api.spotify.com/v1/tracks/54ipXppHLA8U4yqpOFTUhr', 'analysis_url': 'https://api.spotify.com/v1/audio-analysis/54ipXppHLA8U4yqpOFTUhr', 'duration_ms': 165265, 'time_signature': 4}, {'danceability': 0.466, 'energy': 0.9, 'key': 11, 'loudness': -4.469, 'mode': 1, 'speechiness': 0.0447, 'acousticness': 0.000235, 'instrumentalness': 0.00104, 'liveness': 0.103, 'valence': 0.561, 'tempo': 130.02, 'type': 'audio_features', 'id': '2HZLXBOnaSRhXStMLrq9fD', 'uri': 'spotify:track:2HZLXBOnaSRhXStMLrq9fD', 'track_href': 'https://api.spotify.com/v1/tracks/2HZLXBOnaSRhXStMLrq9fD', 'analysis_url': 'https://api.spotify.com/v1/audio-analysis/2HZLXBOnaSRhXStMLrq9fD', 'duration_ms': 244804, 'time_signature': 4}, {'danceability': 0.663, 'energy': 0.786, 'key': 11, 'loudness': -3.51, 'mode': 0, 'speechiness': 0.195, 'acousticness': 0.229, 'instrumentalness': 0, 'liveness': 0.219, 'valence': 0.579, 'tempo': 196.12, 'type': 'audio_features', 'id': '1797zYiX4cKosMH836X9Gt', 'uri': 'spotify:track:1797zYiX4cKosMH836X9Gt', 'track_href': 'https://api.spotify.com/v1/tracks/1797zYiX4cKosMH836X9Gt', 'analysis_url': 'https://api.spotify.com/v1/audio-analysis/1797zYiX4cKosMH836X9Gt', 'duration_ms': 198367, 'time_signature': 4}, {'danceability': 0.601, 'energy': 0.741, 'key': 2, 'loudness': -5.569, 'mode': 1, 'speechiness': 0.0478, 'acousticness': 0.185, 'instrumentalness': 2.91e-05, 'liveness': 0.415, 'valence': 0.441, 'tempo': 153.96, 'type': 'audio_features', 'id': '6I3mqTwhRpn34SLVafSH7G', 'uri': 'spotify:track:6I3mqTwhRpn34SLVafSH7G', 'track_href': 'https://api.spotify.com/v1/tracks/6I3mqTwhRpn34SLVafSH7G', 'analysis_url': 'https://api.spotify.com/v1/audio-analysis/6I3mqTwhRpn34SLVafSH7G', 'duration_ms': 153190, 'time_signature': 4}])"
      ]
     },
     "execution_count": 8,
     "metadata": {},
     "output_type": "execute_result"
    }
   ],
   "source": [
    "dct_response.values()"
   ]
  }
 ],
 "metadata": {
  "kernelspec": {
   "display_name": "Python 3.10.2 64-bit",
   "language": "python",
   "name": "python3"
  },
  "language_info": {
   "codemirror_mode": {
    "name": "ipython",
    "version": 3
   },
   "file_extension": ".py",
   "mimetype": "text/x-python",
   "name": "python",
   "nbconvert_exporter": "python",
   "pygments_lexer": "ipython3",
   "version": "3.10.2"
  },
  "orig_nbformat": 4,
  "vscode": {
   "interpreter": {
    "hash": "e913b7897ac30ba1cf0615ffc95e0dcac655edcf15ece0252fa093eec079069f"
   }
  }
 },
 "nbformat": 4,
 "nbformat_minor": 2
}
